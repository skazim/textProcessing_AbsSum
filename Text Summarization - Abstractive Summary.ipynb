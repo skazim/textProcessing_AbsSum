{
 "cells": [
  {
   "cell_type": "markdown",
   "id": "00dfdd7c",
   "metadata": {},
   "source": [
    "# Text Processing - Abstractive Summarization"
   ]
  },
  {
   "cell_type": "markdown",
   "id": "1d964f0a",
   "metadata": {},
   "source": [
    "### Import Libraries"
   ]
  },
  {
   "cell_type": "code",
   "execution_count": 4,
   "id": "6763fa47",
   "metadata": {},
   "outputs": [],
   "source": [
    "import os\n",
    "import re\n",
    "import pandas as pd\n",
    "import numpy as np\n",
    "from contractions import contractions_dict\n"
   ]
  },
  {
   "cell_type": "markdown",
   "id": "5189655c",
   "metadata": {},
   "source": [
    "### Methods "
   ]
  },
  {
   "cell_type": "code",
   "execution_count": 5,
   "id": "049646dc",
   "metadata": {},
   "outputs": [],
   "source": [
    "def load_data(filepath):\n",
    "    data = pd.read_csv(filepath)\n",
    "    return data['ctext'], data['headlines']\n",
    "\n",
    "def data_preprocess(df1,df2):\n",
    "    df1_columns = df1.columns.tolist()\n",
    "    df1_columns.remove('headlines')\n",
    "    df1_columns.remove('text')\n",
    "    df1.drop(df1_columns, axis='columns', inplace=True)\n",
    "\n",
    "    df = pd.concat([df1, df2], axis='rows')\n",
    "    del df1, df2\n",
    "    df = df.sample(frac=1).reset_index(drop=True)\n",
    "    df.text = df.text.apply(str.lower)\n",
    "    df.headlines = df.headlines.apply(str.lower)\n",
    "    return df\n",
    "\n",
    "def expand_contractions(text, contraction_map=contractions_dict):\n",
    "    # Using regex for getting all contracted words\n",
    "    contractions_keys = '|'.join(contraction_map.keys())\n",
    "    contractions_pattern = re.compile(f'({contractions_keys})', flags=re.DOTALL)\n",
    "\n",
    "    def expand_match(contraction):\n",
    "        # Getting entire matched sub-string\n",
    "        match = contraction.group(0)\n",
    "        expanded_contraction = contraction_map.get(match)\n",
    "        if not expand_contractions:\n",
    "            print(match)\n",
    "            return match\n",
    "        return expanded_contraction\n",
    "\n",
    "    expanded_text = contractions_pattern.sub(expand_match, text)\n",
    "    expanded_text = re.sub(\"'\", \"\", expanded_text)\n",
    "    return expanded_text"
   ]
  },
  {
   "cell_type": "markdown",
   "id": "269e4745",
   "metadata": {},
   "source": [
    "### Data Extraction and Loading"
   ]
  },
  {
   "cell_type": "code",
   "execution_count": 6,
   "id": "7acd8b45",
   "metadata": {},
   "outputs": [],
   "source": [
    "filename1 = 'news_summary.csv'\n",
    "filename2 = 'news_summary_more.csv'\n",
    "\n",
    "df1 = pd.read_csv(filename1, encoding='iso-8859-1').reset_index(drop=True)\n",
    "df2 = pd.read_csv(filename2, encoding='iso-8859-1').reset_index(drop=True)"
   ]
  },
  {
   "cell_type": "markdown",
   "id": "c4287fd7",
   "metadata": {},
   "source": [
    "### Data Preprocessing"
   ]
  },
  {
   "cell_type": "code",
   "execution_count": 7,
   "id": "9729fe72",
   "metadata": {},
   "outputs": [],
   "source": [
    "df = data_preprocess(df1,df2)\n",
    "headlines = data_preprocess(df1,df2)['headlines']\n",
    "text = data_preprocess(df1,df2)['text']"
   ]
  },
  {
   "cell_type": "code",
   "execution_count": null,
   "id": "3cb5d57f",
   "metadata": {},
   "outputs": [],
   "source": []
  }
 ],
 "metadata": {
  "kernelspec": {
   "display_name": "Python 3 (ipykernel)",
   "language": "python",
   "name": "python3"
  },
  "language_info": {
   "codemirror_mode": {
    "name": "ipython",
    "version": 3
   },
   "file_extension": ".py",
   "mimetype": "text/x-python",
   "name": "python",
   "nbconvert_exporter": "python",
   "pygments_lexer": "ipython3",
   "version": "3.11.5"
  }
 },
 "nbformat": 4,
 "nbformat_minor": 5
}
